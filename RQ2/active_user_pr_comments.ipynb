{
 "cells": [
  {
   "cell_type": "markdown",
   "id": "3b384f27",
   "metadata": {},
   "source": [
    "# File for extracting only pull requests of active users"
   ]
  },
  {
   "cell_type": "code",
   "execution_count": 1,
   "id": "6b84963f",
   "metadata": {},
   "outputs": [],
   "source": [
    "import pandas as pd\n",
    "import numpy as np\n",
    "import os\n",
    "import matplotlib.pyplot as plt "
   ]
  },
  {
   "cell_type": "code",
   "execution_count": 2,
   "id": "29c812e1",
   "metadata": {},
   "outputs": [],
   "source": [
    "import scipy.stats as stats\n",
    "from collections import defaultdict\n",
    "from scipy.stats.stats import pearsonr"
   ]
  },
  {
   "cell_type": "code",
   "execution_count": 3,
   "id": "c48b0e91",
   "metadata": {},
   "outputs": [],
   "source": [
    "import csv"
   ]
  },
  {
   "cell_type": "markdown",
   "id": "75d3f4e5",
   "metadata": {},
   "source": [
    "# Pre-processing"
   ]
  },
  {
   "cell_type": "markdown",
   "id": "9cf500a1",
   "metadata": {},
   "source": [
    "### Pull requests comments dataset"
   ]
  },
  {
   "cell_type": "code",
   "execution_count": 4,
   "id": "0ae3a9f3",
   "metadata": {},
   "outputs": [],
   "source": [
    "pr_comments_original = pd.read_csv('pull_request_comments.csv', header=None, on_bad_lines='skip', nrows=1000, usecols = [1,4]) "
   ]
  },
  {
   "cell_type": "code",
   "execution_count": 8,
   "id": "222952e2",
   "metadata": {},
   "outputs": [],
   "source": [
    "# columns name as indicated in the GHTorrent dataset\n",
    "pr_comments_original.columns =['user_id' , 'body']\n"
   ]
  },
  {
   "cell_type": "code",
   "execution_count": 9,
   "id": "7376ab04",
   "metadata": {},
   "outputs": [
    {
     "data": {
      "text/html": [
       "<div>\n",
       "<style scoped>\n",
       "    .dataframe tbody tr th:only-of-type {\n",
       "        vertical-align: middle;\n",
       "    }\n",
       "\n",
       "    .dataframe tbody tr th {\n",
       "        vertical-align: top;\n",
       "    }\n",
       "\n",
       "    .dataframe thead th {\n",
       "        text-align: right;\n",
       "    }\n",
       "</style>\n",
       "<table border=\"1\" class=\"dataframe\">\n",
       "  <thead>\n",
       "    <tr style=\"text-align: right;\">\n",
       "      <th></th>\n",
       "      <th>user_id</th>\n",
       "      <th>body</th>\n",
       "    </tr>\n",
       "  </thead>\n",
       "  <tbody>\n",
       "    <tr>\n",
       "      <th>0</th>\n",
       "      <td>66821</td>\n",
       "      <td>I think auto-submitting to cause a full page r...</td>\n",
       "    </tr>\n",
       "    <tr>\n",
       "      <th>1</th>\n",
       "      <td>67072</td>\n",
       "      <td>I agree with Brad; either the *complete* exper...</td>\n",
       "    </tr>\n",
       "    <tr>\n",
       "      <th>2</th>\n",
       "      <td>2065</td>\n",
       "      <td>Added test to ensure single class is passed. M...</td>\n",
       "    </tr>\n",
       "    <tr>\n",
       "      <th>3</th>\n",
       "      <td>3195768</td>\n",
       "      <td>NaN</td>\n",
       "    </tr>\n",
       "    <tr>\n",
       "      <th>4</th>\n",
       "      <td>10578</td>\n",
       "      <td>&lt;meta charset=\\utf-8\\\" /&gt;\"</td>\n",
       "    </tr>\n",
       "  </tbody>\n",
       "</table>\n",
       "</div>"
      ],
      "text/plain": [
       "   user_id                                               body\n",
       "0    66821  I think auto-submitting to cause a full page r...\n",
       "1    67072  I agree with Brad; either the *complete* exper...\n",
       "2     2065  Added test to ensure single class is passed. M...\n",
       "3  3195768                                                NaN\n",
       "4    10578                         <meta charset=\\utf-8\\\" />\""
      ]
     },
     "execution_count": 9,
     "metadata": {},
     "output_type": "execute_result"
    }
   ],
   "source": [
    "pr_comments_original.head() "
   ]
  },
  {
   "cell_type": "code",
   "execution_count": 10,
   "id": "4963e60a",
   "metadata": {},
   "outputs": [
    {
     "data": {
      "text/html": [
       "<div>\n",
       "<style scoped>\n",
       "    .dataframe tbody tr th:only-of-type {\n",
       "        vertical-align: middle;\n",
       "    }\n",
       "\n",
       "    .dataframe tbody tr th {\n",
       "        vertical-align: top;\n",
       "    }\n",
       "\n",
       "    .dataframe thead th {\n",
       "        text-align: right;\n",
       "    }\n",
       "</style>\n",
       "<table border=\"1\" class=\"dataframe\">\n",
       "  <thead>\n",
       "    <tr style=\"text-align: right;\">\n",
       "      <th></th>\n",
       "      <th>user_id</th>\n",
       "      <th>body</th>\n",
       "    </tr>\n",
       "  </thead>\n",
       "  <tbody>\n",
       "    <tr>\n",
       "      <th>72</th>\n",
       "      <td>but you could say</td>\n",
       "      <td>NaN</td>\n",
       "    </tr>\n",
       "    <tr>\n",
       "      <th>895</th>\n",
       "      <td>level2\\\"</td>\n",
       "      <td>NaN</td>\n",
       "    </tr>\n",
       "    <tr>\n",
       "      <th>977</th>\n",
       "      <td>please use the singular form. Only one note p...</td>\n",
       "      <td>NaN</td>\n",
       "    </tr>\n",
       "    <tr>\n",
       "      <th>423</th>\n",
       "      <td>stroke: BLUE }`\\</td>\n",
       "      <td>NaN</td>\n",
       "    </tr>\n",
       "    <tr>\n",
       "      <th>529</th>\n",
       "      <td>1000343</td>\n",
       "      <td>NaN</td>\n",
       "    </tr>\n",
       "  </tbody>\n",
       "</table>\n",
       "</div>"
      ],
      "text/plain": [
       "                                               user_id body\n",
       "72                                   but you could say  NaN\n",
       "895                                           level2\\\"  NaN\n",
       "977   please use the singular form. Only one note p...  NaN\n",
       "423                                   stroke: BLUE }`\\  NaN\n",
       "529                                            1000343  NaN"
      ]
     },
     "execution_count": 10,
     "metadata": {},
     "output_type": "execute_result"
    }
   ],
   "source": [
    "\n",
    "pr_comments_original.sort_values(by=['user_id']).head()"
   ]
  },
  {
   "cell_type": "code",
   "execution_count": 11,
   "id": "d9be1bdd",
   "metadata": {},
   "outputs": [],
   "source": [
    "pr_comments = pr_comments_original.copy()\n",
    "#all the changes are done on this copy of the dataset"
   ]
  },
  {
   "cell_type": "code",
   "execution_count": 12,
   "id": "6d788068",
   "metadata": {},
   "outputs": [
    {
     "data": {
      "text/plain": [
       "user_id    43\n",
       "body       65\n",
       "dtype: int64"
      ]
     },
     "execution_count": 12,
     "metadata": {},
     "output_type": "execute_result"
    }
   ],
   "source": [
    "pr_comments.isna().sum()"
   ]
  },
  {
   "cell_type": "code",
   "execution_count": 13,
   "id": "7c1612bd",
   "metadata": {},
   "outputs": [
    {
     "data": {
      "text/html": [
       "<div>\n",
       "<style scoped>\n",
       "    .dataframe tbody tr th:only-of-type {\n",
       "        vertical-align: middle;\n",
       "    }\n",
       "\n",
       "    .dataframe tbody tr th {\n",
       "        vertical-align: top;\n",
       "    }\n",
       "\n",
       "    .dataframe thead th {\n",
       "        text-align: right;\n",
       "    }\n",
       "</style>\n",
       "<table border=\"1\" class=\"dataframe\">\n",
       "  <thead>\n",
       "    <tr style=\"text-align: right;\">\n",
       "      <th></th>\n",
       "      <th>user_id</th>\n",
       "      <th>body</th>\n",
       "    </tr>\n",
       "  </thead>\n",
       "  <tbody>\n",
       "    <tr>\n",
       "      <th>72</th>\n",
       "      <td>but you could say</td>\n",
       "      <td>NaN</td>\n",
       "    </tr>\n",
       "    <tr>\n",
       "      <th>895</th>\n",
       "      <td>level2\\\"</td>\n",
       "      <td>NaN</td>\n",
       "    </tr>\n",
       "    <tr>\n",
       "      <th>977</th>\n",
       "      <td>please use the singular form. Only one note p...</td>\n",
       "      <td>NaN</td>\n",
       "    </tr>\n",
       "    <tr>\n",
       "      <th>423</th>\n",
       "      <td>stroke: BLUE }`\\</td>\n",
       "      <td>NaN</td>\n",
       "    </tr>\n",
       "    <tr>\n",
       "      <th>529</th>\n",
       "      <td>1000343</td>\n",
       "      <td>NaN</td>\n",
       "    </tr>\n",
       "  </tbody>\n",
       "</table>\n",
       "</div>"
      ],
      "text/plain": [
       "                                               user_id body\n",
       "72                                   but you could say  NaN\n",
       "895                                           level2\\\"  NaN\n",
       "977   please use the singular form. Only one note p...  NaN\n",
       "423                                   stroke: BLUE }`\\  NaN\n",
       "529                                            1000343  NaN"
      ]
     },
     "execution_count": 13,
     "metadata": {},
     "output_type": "execute_result"
    }
   ],
   "source": [
    "pr_comments.sort_values(by=['user_id']).head()"
   ]
  },
  {
   "cell_type": "code",
   "execution_count": 14,
   "id": "b1401533",
   "metadata": {},
   "outputs": [
    {
     "data": {
      "text/plain": [
       "(1000, 2)"
      ]
     },
     "execution_count": 14,
     "metadata": {},
     "output_type": "execute_result"
    }
   ],
   "source": [
    "pr_comments.shape"
   ]
  },
  {
   "cell_type": "code",
   "execution_count": 15,
   "id": "26b20a04",
   "metadata": {},
   "outputs": [
    {
     "data": {
      "text/plain": [
       "user_id    object\n",
       "body       object\n",
       "dtype: object"
      ]
     },
     "execution_count": 15,
     "metadata": {},
     "output_type": "execute_result"
    }
   ],
   "source": [
    "pr_comments.dtypes"
   ]
  },
  {
   "cell_type": "markdown",
   "id": "1a3cebe1",
   "metadata": {},
   "source": []
  },
  {
   "cell_type": "code",
   "execution_count": 16,
   "id": "2f24a83f",
   "metadata": {},
   "outputs": [],
   "source": [
    "#Convert user_id from object to float and then to integer\n",
    "pr_comments['user_id']=pd.to_numeric(pr_comments['user_id'], errors='coerce', downcast='integer')"
   ]
  },
  {
   "cell_type": "code",
   "execution_count": 17,
   "id": "ea7c73d7",
   "metadata": {},
   "outputs": [
    {
     "data": {
      "text/plain": [
       "user_id    float64\n",
       "body        object\n",
       "dtype: object"
      ]
     },
     "execution_count": 17,
     "metadata": {},
     "output_type": "execute_result"
    }
   ],
   "source": [
    "pr_comments.dtypes"
   ]
  },
  {
   "cell_type": "code",
   "execution_count": 18,
   "id": "0c3d83cd",
   "metadata": {},
   "outputs": [],
   "source": [
    "# Drop missing values because either if user or body is missing, the record can't be used\n",
    "pr_comments.dropna(inplace=True)"
   ]
  },
  {
   "cell_type": "code",
   "execution_count": 20,
   "id": "5673e249",
   "metadata": {},
   "outputs": [],
   "source": [
    "pr_comments['user_id'] = pr_comments['user_id'].astype(int)"
   ]
  },
  {
   "cell_type": "code",
   "execution_count": 21,
   "id": "b9caa0fc",
   "metadata": {},
   "outputs": [
    {
     "data": {
      "text/plain": [
       "user_id     int32\n",
       "body       object\n",
       "dtype: object"
      ]
     },
     "execution_count": 21,
     "metadata": {},
     "output_type": "execute_result"
    }
   ],
   "source": [
    "pr_comments.dtypes"
   ]
  },
  {
   "cell_type": "code",
   "execution_count": 22,
   "id": "737b87d4",
   "metadata": {},
   "outputs": [
    {
     "data": {
      "text/plain": [
       "(935, 2)"
      ]
     },
     "execution_count": 22,
     "metadata": {},
     "output_type": "execute_result"
    }
   ],
   "source": [
    "pr_comments.shape"
   ]
  },
  {
   "cell_type": "code",
   "execution_count": 25,
   "id": "3e20e05b",
   "metadata": {},
   "outputs": [],
   "source": [
    "# check for only string values in the body (the user_id information can be shifted)\n",
    "pr_comments = pr_comments[pr_comments['body'].str.contains('[A-Za-z]')]"
   ]
  },
  {
   "cell_type": "code",
   "execution_count": 26,
   "id": "a5a9715a",
   "metadata": {},
   "outputs": [
    {
     "data": {
      "text/plain": [
       "(930, 2)"
      ]
     },
     "execution_count": 26,
     "metadata": {},
     "output_type": "execute_result"
    }
   ],
   "source": [
    "pr_comments.shape"
   ]
  },
  {
   "cell_type": "markdown",
   "id": "adfde476",
   "metadata": {},
   "source": [
    "### Merging dataset: we are only interested in analysing pull requests of active users"
   ]
  },
  {
   "cell_type": "code",
   "execution_count": 37,
   "id": "2592793f",
   "metadata": {},
   "outputs": [],
   "source": [
    "# we use the information of user_id to match with the pr comments\n",
    "active_user_login = pd.read_csv('active_users_login.csv', on_bad_lines='skip') "
   ]
  },
  {
   "cell_type": "code",
   "execution_count": 38,
   "id": "a38511e1",
   "metadata": {},
   "outputs": [
    {
     "data": {
      "text/html": [
       "<div>\n",
       "<style scoped>\n",
       "    .dataframe tbody tr th:only-of-type {\n",
       "        vertical-align: middle;\n",
       "    }\n",
       "\n",
       "    .dataframe tbody tr th {\n",
       "        vertical-align: top;\n",
       "    }\n",
       "\n",
       "    .dataframe thead th {\n",
       "        text-align: right;\n",
       "    }\n",
       "</style>\n",
       "<table border=\"1\" class=\"dataframe\">\n",
       "  <thead>\n",
       "    <tr style=\"text-align: right;\">\n",
       "      <th></th>\n",
       "      <th>Unnamed: 0</th>\n",
       "      <th>user_id</th>\n",
       "      <th>login</th>\n",
       "    </tr>\n",
       "  </thead>\n",
       "  <tbody>\n",
       "    <tr>\n",
       "      <th>0</th>\n",
       "      <td>0</td>\n",
       "      <td>2</td>\n",
       "      <td>jmettraux</td>\n",
       "    </tr>\n",
       "    <tr>\n",
       "      <th>1</th>\n",
       "      <td>1</td>\n",
       "      <td>5</td>\n",
       "      <td>weppos</td>\n",
       "    </tr>\n",
       "    <tr>\n",
       "      <th>2</th>\n",
       "      <td>2</td>\n",
       "      <td>6</td>\n",
       "      <td>anb</td>\n",
       "    </tr>\n",
       "    <tr>\n",
       "      <th>3</th>\n",
       "      <td>3</td>\n",
       "      <td>10</td>\n",
       "      <td>mcollina</td>\n",
       "    </tr>\n",
       "    <tr>\n",
       "      <th>4</th>\n",
       "      <td>4</td>\n",
       "      <td>24</td>\n",
       "      <td>jswhit</td>\n",
       "    </tr>\n",
       "  </tbody>\n",
       "</table>\n",
       "</div>"
      ],
      "text/plain": [
       "   Unnamed: 0  user_id      login\n",
       "0           0        2  jmettraux\n",
       "1           1        5     weppos\n",
       "2           2        6        anb\n",
       "3           3       10   mcollina\n",
       "4           4       24     jswhit"
      ]
     },
     "execution_count": 38,
     "metadata": {},
     "output_type": "execute_result"
    }
   ],
   "source": [
    "active_user_login.head()"
   ]
  },
  {
   "cell_type": "code",
   "execution_count": 39,
   "id": "a90fffbe",
   "metadata": {},
   "outputs": [],
   "source": [
    "active_user_login.drop(columns = 'Unnamed: 0', axis=1, inplace=True)"
   ]
  },
  {
   "cell_type": "code",
   "execution_count": 40,
   "id": "2519786b",
   "metadata": {},
   "outputs": [
    {
     "data": {
      "text/html": [
       "<div>\n",
       "<style scoped>\n",
       "    .dataframe tbody tr th:only-of-type {\n",
       "        vertical-align: middle;\n",
       "    }\n",
       "\n",
       "    .dataframe tbody tr th {\n",
       "        vertical-align: top;\n",
       "    }\n",
       "\n",
       "    .dataframe thead th {\n",
       "        text-align: right;\n",
       "    }\n",
       "</style>\n",
       "<table border=\"1\" class=\"dataframe\">\n",
       "  <thead>\n",
       "    <tr style=\"text-align: right;\">\n",
       "      <th></th>\n",
       "      <th>user_id</th>\n",
       "      <th>login</th>\n",
       "    </tr>\n",
       "  </thead>\n",
       "  <tbody>\n",
       "    <tr>\n",
       "      <th>0</th>\n",
       "      <td>2</td>\n",
       "      <td>jmettraux</td>\n",
       "    </tr>\n",
       "    <tr>\n",
       "      <th>1</th>\n",
       "      <td>5</td>\n",
       "      <td>weppos</td>\n",
       "    </tr>\n",
       "    <tr>\n",
       "      <th>2</th>\n",
       "      <td>6</td>\n",
       "      <td>anb</td>\n",
       "    </tr>\n",
       "    <tr>\n",
       "      <th>3</th>\n",
       "      <td>10</td>\n",
       "      <td>mcollina</td>\n",
       "    </tr>\n",
       "    <tr>\n",
       "      <th>4</th>\n",
       "      <td>24</td>\n",
       "      <td>jswhit</td>\n",
       "    </tr>\n",
       "  </tbody>\n",
       "</table>\n",
       "</div>"
      ],
      "text/plain": [
       "   user_id      login\n",
       "0        2  jmettraux\n",
       "1        5     weppos\n",
       "2        6        anb\n",
       "3       10   mcollina\n",
       "4       24     jswhit"
      ]
     },
     "execution_count": 40,
     "metadata": {},
     "output_type": "execute_result"
    }
   ],
   "source": [
    "active_user_login.sort_values(by='user_id').head()"
   ]
  },
  {
   "cell_type": "code",
   "execution_count": 36,
   "id": "c387b861",
   "metadata": {},
   "outputs": [
    {
     "data": {
      "text/html": [
       "<div>\n",
       "<style scoped>\n",
       "    .dataframe tbody tr th:only-of-type {\n",
       "        vertical-align: middle;\n",
       "    }\n",
       "\n",
       "    .dataframe tbody tr th {\n",
       "        vertical-align: top;\n",
       "    }\n",
       "\n",
       "    .dataframe thead th {\n",
       "        text-align: right;\n",
       "    }\n",
       "</style>\n",
       "<table border=\"1\" class=\"dataframe\">\n",
       "  <thead>\n",
       "    <tr style=\"text-align: right;\">\n",
       "      <th></th>\n",
       "      <th>user_id</th>\n",
       "      <th>body</th>\n",
       "    </tr>\n",
       "  </thead>\n",
       "  <tbody>\n",
       "    <tr>\n",
       "      <th>189</th>\n",
       "      <td>217</td>\n",
       "      <td>only thing that's needed here is passthrough(x...</td>\n",
       "    </tr>\n",
       "    <tr>\n",
       "      <th>209</th>\n",
       "      <td>617</td>\n",
       "      <td>This line doesn't do anything?!1</td>\n",
       "    </tr>\n",
       "    <tr>\n",
       "      <th>206</th>\n",
       "      <td>617</td>\n",
       "      <td>This assumes `navigator.id.getVerifiedEmail` w...</td>\n",
       "    </tr>\n",
       "    <tr>\n",
       "      <th>222</th>\n",
       "      <td>617</td>\n",
       "      <td>You don't actually use `i`, or `arr` here, I d...</td>\n",
       "    </tr>\n",
       "    <tr>\n",
       "      <th>208</th>\n",
       "      <td>617</td>\n",
       "      <td>Nit: should use `jQuery.Deferred` instead of `...</td>\n",
       "    </tr>\n",
       "    <tr>\n",
       "      <th>211</th>\n",
       "      <td>617</td>\n",
       "      <td>SuperNit: space after `)`:\\\\n\\\\n```js\\\\nvar Ba...</td>\n",
       "    </tr>\n",
       "    <tr>\n",
       "      <th>217</th>\n",
       "      <td>617</td>\n",
       "      <td>Not sure this should throw. That means nothing...</td>\n",
       "    </tr>\n",
       "    <tr>\n",
       "      <th>622</th>\n",
       "      <td>707</td>\n",
       "      <td>Also don't know how this happened.</td>\n",
       "    </tr>\n",
       "    <tr>\n",
       "      <th>626</th>\n",
       "      <td>707</td>\n",
       "      <td>./tinyformat.h:557:31: warning: implicit conve...</td>\n",
       "    </tr>\n",
       "    <tr>\n",
       "      <th>627</th>\n",
       "      <td>707</td>\n",
       "      <td>C++11 allows you to specify the underlying typ...</td>\n",
       "    </tr>\n",
       "    <tr>\n",
       "      <th>629</th>\n",
       "      <td>707</td>\n",
       "      <td>That works</td>\n",
       "    </tr>\n",
       "    <tr>\n",
       "      <th>630</th>\n",
       "      <td>707</td>\n",
       "      <td>It would also probably be better to use std::b...</td>\n",
       "    </tr>\n",
       "    <tr>\n",
       "      <th>621</th>\n",
       "      <td>707</td>\n",
       "      <td>Don't know how that happened</td>\n",
       "    </tr>\n",
       "    <tr>\n",
       "      <th>436</th>\n",
       "      <td>733</td>\n",
       "      <td>This could become an Attribute of the app (tha...</td>\n",
       "    </tr>\n",
       "  </tbody>\n",
       "</table>\n",
       "</div>"
      ],
      "text/plain": [
       "     user_id                                               body\n",
       "189      217  only thing that's needed here is passthrough(x...\n",
       "209      617                   This line doesn't do anything?!1\n",
       "206      617  This assumes `navigator.id.getVerifiedEmail` w...\n",
       "222      617  You don't actually use `i`, or `arr` here, I d...\n",
       "208      617  Nit: should use `jQuery.Deferred` instead of `...\n",
       "211      617  SuperNit: space after `)`:\\\\n\\\\n```js\\\\nvar Ba...\n",
       "217      617  Not sure this should throw. That means nothing...\n",
       "622      707                 Also don't know how this happened.\n",
       "626      707  ./tinyformat.h:557:31: warning: implicit conve...\n",
       "627      707  C++11 allows you to specify the underlying typ...\n",
       "629      707                                         That works\n",
       "630      707  It would also probably be better to use std::b...\n",
       "621      707                       Don't know how that happened\n",
       "436      733  This could become an Attribute of the app (tha..."
      ]
     },
     "execution_count": 36,
     "metadata": {},
     "output_type": "execute_result"
    }
   ],
   "source": [
    "pr_comments.sort_values(by=['user_id']).head(14)"
   ]
  },
  {
   "cell_type": "code",
   "execution_count": 41,
   "id": "6e01af6a",
   "metadata": {},
   "outputs": [],
   "source": [
    "# merge between pr_comments and active user login\n",
    "inner_merged = pd.merge(pr_comments, active_user_login, on=['user_id'])"
   ]
  },
  {
   "cell_type": "code",
   "execution_count": 42,
   "id": "efd44ffd",
   "metadata": {},
   "outputs": [
    {
     "data": {
      "text/html": [
       "<div>\n",
       "<style scoped>\n",
       "    .dataframe tbody tr th:only-of-type {\n",
       "        vertical-align: middle;\n",
       "    }\n",
       "\n",
       "    .dataframe tbody tr th {\n",
       "        vertical-align: top;\n",
       "    }\n",
       "\n",
       "    .dataframe thead th {\n",
       "        text-align: right;\n",
       "    }\n",
       "</style>\n",
       "<table border=\"1\" class=\"dataframe\">\n",
       "  <thead>\n",
       "    <tr style=\"text-align: right;\">\n",
       "      <th></th>\n",
       "      <th>user_id</th>\n",
       "      <th>body</th>\n",
       "      <th>login</th>\n",
       "    </tr>\n",
       "  </thead>\n",
       "  <tbody>\n",
       "    <tr>\n",
       "      <th>121</th>\n",
       "      <td>217</td>\n",
       "      <td>only thing that's needed here is passthrough(x...</td>\n",
       "      <td>lloyd</td>\n",
       "    </tr>\n",
       "    <tr>\n",
       "      <th>126</th>\n",
       "      <td>617</td>\n",
       "      <td>Not sure this should throw. That means nothing...</td>\n",
       "      <td>brianloveswords</td>\n",
       "    </tr>\n",
       "    <tr>\n",
       "      <th>125</th>\n",
       "      <td>617</td>\n",
       "      <td>SuperNit: space after `)`:\\\\n\\\\n```js\\\\nvar Ba...</td>\n",
       "      <td>brianloveswords</td>\n",
       "    </tr>\n",
       "    <tr>\n",
       "      <th>124</th>\n",
       "      <td>617</td>\n",
       "      <td>This line doesn't do anything?!1</td>\n",
       "      <td>brianloveswords</td>\n",
       "    </tr>\n",
       "    <tr>\n",
       "      <th>123</th>\n",
       "      <td>617</td>\n",
       "      <td>Nit: should use `jQuery.Deferred` instead of `...</td>\n",
       "      <td>brianloveswords</td>\n",
       "    </tr>\n",
       "    <tr>\n",
       "      <th>122</th>\n",
       "      <td>617</td>\n",
       "      <td>This assumes `navigator.id.getVerifiedEmail` w...</td>\n",
       "      <td>brianloveswords</td>\n",
       "    </tr>\n",
       "    <tr>\n",
       "      <th>127</th>\n",
       "      <td>617</td>\n",
       "      <td>You don't actually use `i`, or `arr` here, I d...</td>\n",
       "      <td>brianloveswords</td>\n",
       "    </tr>\n",
       "    <tr>\n",
       "      <th>248</th>\n",
       "      <td>733</td>\n",
       "      <td>Might be useful to pass the `{asList: true}` o...</td>\n",
       "      <td>ericf</td>\n",
       "    </tr>\n",
       "    <tr>\n",
       "      <th>246</th>\n",
       "      <td>733</td>\n",
       "      <td>I think prefixing the modules with \\mvc-\\\" and...</td>\n",
       "      <td>ericf</td>\n",
       "    </tr>\n",
       "    <tr>\n",
       "      <th>247</th>\n",
       "      <td>733</td>\n",
       "      <td>This could become an Attribute of the app (tha...</td>\n",
       "      <td>ericf</td>\n",
       "    </tr>\n",
       "    <tr>\n",
       "      <th>249</th>\n",
       "      <td>733</td>\n",
       "      <td>Same for this: `{asList: true}`</td>\n",
       "      <td>ericf</td>\n",
       "    </tr>\n",
       "    <tr>\n",
       "      <th>250</th>\n",
       "      <td>733</td>\n",
       "      <td>I'm not totally happy with the overloaded `err...</td>\n",
       "      <td>ericf</td>\n",
       "    </tr>\n",
       "    <tr>\n",
       "      <th>241</th>\n",
       "      <td>858</td>\n",
       "      <td>Can you add a link to the Symfony2 documentati...</td>\n",
       "      <td>willdurand</td>\n",
       "    </tr>\n",
       "    <tr>\n",
       "      <th>240</th>\n",
       "      <td>858</td>\n",
       "      <td>what do you mean?</td>\n",
       "      <td>willdurand</td>\n",
       "    </tr>\n",
       "    <tr>\n",
       "      <th>239</th>\n",
       "      <td>858</td>\n",
       "      <td>could you rename this variable to `webserver_u...</td>\n",
       "      <td>willdurand</td>\n",
       "    </tr>\n",
       "    <tr>\n",
       "      <th>238</th>\n",
       "      <td>858</td>\n",
       "      <td>could you rename this variable to `writable_di...</td>\n",
       "      <td>willdurand</td>\n",
       "    </tr>\n",
       "  </tbody>\n",
       "</table>\n",
       "</div>"
      ],
      "text/plain": [
       "     user_id                                               body  \\\n",
       "121      217  only thing that's needed here is passthrough(x...   \n",
       "126      617  Not sure this should throw. That means nothing...   \n",
       "125      617  SuperNit: space after `)`:\\\\n\\\\n```js\\\\nvar Ba...   \n",
       "124      617                   This line doesn't do anything?!1   \n",
       "123      617  Nit: should use `jQuery.Deferred` instead of `...   \n",
       "122      617  This assumes `navigator.id.getVerifiedEmail` w...   \n",
       "127      617  You don't actually use `i`, or `arr` here, I d...   \n",
       "248      733  Might be useful to pass the `{asList: true}` o...   \n",
       "246      733  I think prefixing the modules with \\mvc-\\\" and...   \n",
       "247      733  This could become an Attribute of the app (tha...   \n",
       "249      733                    Same for this: `{asList: true}`   \n",
       "250      733  I'm not totally happy with the overloaded `err...   \n",
       "241      858  Can you add a link to the Symfony2 documentati...   \n",
       "240      858                                  what do you mean?   \n",
       "239      858  could you rename this variable to `webserver_u...   \n",
       "238      858  could you rename this variable to `writable_di...   \n",
       "\n",
       "               login  \n",
       "121            lloyd  \n",
       "126  brianloveswords  \n",
       "125  brianloveswords  \n",
       "124  brianloveswords  \n",
       "123  brianloveswords  \n",
       "122  brianloveswords  \n",
       "127  brianloveswords  \n",
       "248            ericf  \n",
       "246            ericf  \n",
       "247            ericf  \n",
       "249            ericf  \n",
       "250            ericf  \n",
       "241       willdurand  \n",
       "240       willdurand  \n",
       "239       willdurand  \n",
       "238       willdurand  "
      ]
     },
     "execution_count": 42,
     "metadata": {},
     "output_type": "execute_result"
    }
   ],
   "source": [
    "inner_merged.sort_values(by=['user_id']).head(16)"
   ]
  },
  {
   "cell_type": "code",
   "execution_count": 43,
   "id": "29016fc4",
   "metadata": {},
   "outputs": [],
   "source": [
    "res = inner_merged.groupby(['user_id'], as_index=False)[['body', 'login']]\\\n",
    "      .agg(lambda x: ', '.join(map(str, set(x))))"
   ]
  },
  {
   "cell_type": "code",
   "execution_count": 44,
   "id": "352b81e3",
   "metadata": {},
   "outputs": [
    {
     "data": {
      "text/html": [
       "<div>\n",
       "<style scoped>\n",
       "    .dataframe tbody tr th:only-of-type {\n",
       "        vertical-align: middle;\n",
       "    }\n",
       "\n",
       "    .dataframe tbody tr th {\n",
       "        vertical-align: top;\n",
       "    }\n",
       "\n",
       "    .dataframe thead th {\n",
       "        text-align: right;\n",
       "    }\n",
       "</style>\n",
       "<table border=\"1\" class=\"dataframe\">\n",
       "  <thead>\n",
       "    <tr style=\"text-align: right;\">\n",
       "      <th></th>\n",
       "      <th>user_id</th>\n",
       "      <th>body</th>\n",
       "      <th>login</th>\n",
       "    </tr>\n",
       "  </thead>\n",
       "  <tbody>\n",
       "    <tr>\n",
       "      <th>0</th>\n",
       "      <td>217</td>\n",
       "      <td>only thing that's needed here is passthrough(x...</td>\n",
       "      <td>lloyd</td>\n",
       "    </tr>\n",
       "    <tr>\n",
       "      <th>1</th>\n",
       "      <td>617</td>\n",
       "      <td>You don't actually use `i`, or `arr` here, I d...</td>\n",
       "      <td>brianloveswords</td>\n",
       "    </tr>\n",
       "    <tr>\n",
       "      <th>2</th>\n",
       "      <td>733</td>\n",
       "      <td>This could become an Attribute of the app (tha...</td>\n",
       "      <td>ericf</td>\n",
       "    </tr>\n",
       "    <tr>\n",
       "      <th>3</th>\n",
       "      <td>858</td>\n",
       "      <td>could you rename this variable to `writable_di...</td>\n",
       "      <td>willdurand</td>\n",
       "    </tr>\n",
       "    <tr>\n",
       "      <th>4</th>\n",
       "      <td>859</td>\n",
       "      <td>no need to extend the other class, you reverte...</td>\n",
       "      <td>stof</td>\n",
       "    </tr>\n",
       "    <tr>\n",
       "      <th>5</th>\n",
       "      <td>866</td>\n",
       "      <td>ditto - and the next one, s/~~are requiring/re...</td>\n",
       "      <td>garyrussell</td>\n",
       "    </tr>\n",
       "    <tr>\n",
       "      <th>6</th>\n",
       "      <td>884</td>\n",
       "      <td>I like 'adapter' and we already have (with qui...</td>\n",
       "      <td>olegz</td>\n",
       "    </tr>\n",
       "    <tr>\n",
       "      <th>7</th>\n",
       "      <td>1561</td>\n",
       "      <td>Do you want to try moving the unicode characte...</td>\n",
       "      <td>brianmario</td>\n",
       "    </tr>\n",
       "    <tr>\n",
       "      <th>8</th>\n",
       "      <td>1586</td>\n",
       "      <td>@Freeaqingme This is standard getopt usage, no...</td>\n",
       "      <td>weierophinney</td>\n",
       "    </tr>\n",
       "    <tr>\n",
       "      <th>9</th>\n",
       "      <td>1590</td>\n",
       "      <td>Probably ZendService should have his own index...</td>\n",
       "      <td>Maks3w</td>\n",
       "    </tr>\n",
       "    <tr>\n",
       "      <th>10</th>\n",
       "      <td>1628</td>\n",
       "      <td>Please revert everything here, I think we're d...</td>\n",
       "      <td>Ocramius</td>\n",
       "    </tr>\n",
       "    <tr>\n",
       "      <th>11</th>\n",
       "      <td>1715</td>\n",
       "      <td>I already test for autoplay and loop working, ...</td>\n",
       "      <td>humphd</td>\n",
       "    </tr>\n",
       "    <tr>\n",
       "      <th>12</th>\n",
       "      <td>1757</td>\n",
       "      <td>Why are you converting a perfectly good use of...</td>\n",
       "      <td>tomhughes</td>\n",
       "    </tr>\n",
       "    <tr>\n",
       "      <th>13</th>\n",
       "      <td>1804</td>\n",
       "      <td>I don't think you need to re-register the sign...</td>\n",
       "      <td>ploxiln</td>\n",
       "    </tr>\n",
       "    <tr>\n",
       "      <th>14</th>\n",
       "      <td>1954</td>\n",
       "      <td>same hurr, we should cap it with strndup</td>\n",
       "      <td>visionmedia</td>\n",
       "    </tr>\n",
       "    <tr>\n",
       "      <th>15</th>\n",
       "      <td>2616</td>\n",
       "      <td>Kill this log line. (And: typo.), `static`., s...</td>\n",
       "      <td>rnewman</td>\n",
       "    </tr>\n",
       "    <tr>\n",
       "      <th>16</th>\n",
       "      <td>2969</td>\n",
       "      <td>Patch looks good. Curious: where did this rout...</td>\n",
       "      <td>erikrose</td>\n",
       "    </tr>\n",
       "    <tr>\n",
       "      <th>17</th>\n",
       "      <td>3088</td>\n",
       "      <td>I nominate you!, Should be for _any_ type of t...</td>\n",
       "      <td>rwldrn</td>\n",
       "    </tr>\n",
       "    <tr>\n",
       "      <th>18</th>\n",
       "      <td>3509</td>\n",
       "      <td>hmm does this add extra args you don't want or...</td>\n",
       "      <td>lightsofapollo</td>\n",
       "    </tr>\n",
       "    <tr>\n",
       "      <th>19</th>\n",
       "      <td>4343</td>\n",
       "      <td>Yes, I forgot to remove manage-orgs</td>\n",
       "      <td>omaciel</td>\n",
       "    </tr>\n",
       "  </tbody>\n",
       "</table>\n",
       "</div>"
      ],
      "text/plain": [
       "    user_id                                               body  \\\n",
       "0       217  only thing that's needed here is passthrough(x...   \n",
       "1       617  You don't actually use `i`, or `arr` here, I d...   \n",
       "2       733  This could become an Attribute of the app (tha...   \n",
       "3       858  could you rename this variable to `writable_di...   \n",
       "4       859  no need to extend the other class, you reverte...   \n",
       "5       866  ditto - and the next one, s/~~are requiring/re...   \n",
       "6       884  I like 'adapter' and we already have (with qui...   \n",
       "7      1561  Do you want to try moving the unicode characte...   \n",
       "8      1586  @Freeaqingme This is standard getopt usage, no...   \n",
       "9      1590  Probably ZendService should have his own index...   \n",
       "10     1628  Please revert everything here, I think we're d...   \n",
       "11     1715  I already test for autoplay and loop working, ...   \n",
       "12     1757  Why are you converting a perfectly good use of...   \n",
       "13     1804  I don't think you need to re-register the sign...   \n",
       "14     1954           same hurr, we should cap it with strndup   \n",
       "15     2616  Kill this log line. (And: typo.), `static`., s...   \n",
       "16     2969  Patch looks good. Curious: where did this rout...   \n",
       "17     3088  I nominate you!, Should be for _any_ type of t...   \n",
       "18     3509  hmm does this add extra args you don't want or...   \n",
       "19     4343                Yes, I forgot to remove manage-orgs   \n",
       "\n",
       "              login  \n",
       "0             lloyd  \n",
       "1   brianloveswords  \n",
       "2             ericf  \n",
       "3        willdurand  \n",
       "4              stof  \n",
       "5       garyrussell  \n",
       "6             olegz  \n",
       "7        brianmario  \n",
       "8     weierophinney  \n",
       "9            Maks3w  \n",
       "10         Ocramius  \n",
       "11           humphd  \n",
       "12        tomhughes  \n",
       "13          ploxiln  \n",
       "14      visionmedia  \n",
       "15          rnewman  \n",
       "16         erikrose  \n",
       "17           rwldrn  \n",
       "18   lightsofapollo  \n",
       "19          omaciel  "
      ]
     },
     "execution_count": 44,
     "metadata": {},
     "output_type": "execute_result"
    }
   ],
   "source": [
    "res.head(20)"
   ]
  },
  {
   "cell_type": "code",
   "execution_count": null,
   "id": "9a54e932",
   "metadata": {},
   "outputs": [],
   "source": []
  },
  {
   "cell_type": "code",
   "execution_count": null,
   "id": "3d1e6699",
   "metadata": {},
   "outputs": [],
   "source": []
  },
  {
   "cell_type": "code",
   "execution_count": null,
   "id": "3a66a7dc",
   "metadata": {},
   "outputs": [],
   "source": []
  },
  {
   "cell_type": "markdown",
   "id": "b0ea35af",
   "metadata": {},
   "source": [
    "## Extract new file"
   ]
  },
  {
   "cell_type": "code",
   "execution_count": 57,
   "id": "5f6787ef",
   "metadata": {},
   "outputs": [],
   "source": [
    "res.to_csv('C:/Users/costa/Onedrive/Desktop/GITHUB/Processed/active_user_pr_comments.csv') "
   ]
  },
  {
   "cell_type": "code",
   "execution_count": 63,
   "id": "eba0d4d4",
   "metadata": {},
   "outputs": [],
   "source": [
    "res.to_excel('C:/Users/costa/Onedrive/Desktop/GITHUB/Processed/active_user_pr_comments.xlsx')"
   ]
  },
  {
   "cell_type": "code",
   "execution_count": null,
   "id": "386f7eae",
   "metadata": {},
   "outputs": [],
   "source": []
  }
 ],
 "metadata": {
  "kernelspec": {
   "display_name": "Python 3 (ipykernel)",
   "language": "python",
   "name": "python3"
  },
  "language_info": {
   "codemirror_mode": {
    "name": "ipython",
    "version": 3
   },
   "file_extension": ".py",
   "mimetype": "text/x-python",
   "name": "python",
   "nbconvert_exporter": "python",
   "pygments_lexer": "ipython3",
   "version": "3.9.12"
  }
 },
 "nbformat": 4,
 "nbformat_minor": 5
}
